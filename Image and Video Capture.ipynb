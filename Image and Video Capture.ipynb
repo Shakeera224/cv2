{
 "cells": [
  {
   "cell_type": "code",
   "execution_count": 1,
   "id": "b6a99a15",
   "metadata": {},
   "outputs": [],
   "source": [
    "import cv2"
   ]
  },
  {
   "cell_type": "code",
   "execution_count": 2,
   "id": "30b8a3c3",
   "metadata": {},
   "outputs": [],
   "source": [
    "face_cascade=cv2.CascadeClassifier('haarcascade_frontalface_default.xml')"
   ]
  },
  {
   "cell_type": "code",
   "execution_count": 3,
   "id": "d3b5ba9c",
   "metadata": {},
   "outputs": [
    {
     "data": {
      "text/plain": [
       "array([[[ 39,  73,  67],\n",
       "        [ 41,  75,  69],\n",
       "        [ 45,  79,  73],\n",
       "        ...,\n",
       "        [ 30,  92, 102],\n",
       "        [ 32,  97, 106],\n",
       "        [ 32,  97, 106]],\n",
       "\n",
       "       [[ 39,  71,  66],\n",
       "        [ 39,  73,  67],\n",
       "        [ 42,  76,  70],\n",
       "        ...,\n",
       "        [ 35,  97, 107],\n",
       "        [ 31,  96, 105],\n",
       "        [ 31,  96, 105]],\n",
       "\n",
       "       [[ 45,  75,  70],\n",
       "        [ 45,  77,  72],\n",
       "        [ 47,  78,  75],\n",
       "        ...,\n",
       "        [ 26,  88,  98],\n",
       "        [ 17,  82,  91],\n",
       "        [ 17,  82,  91]],\n",
       "\n",
       "       ...,\n",
       "\n",
       "       [[ 98, 119, 147],\n",
       "        [102, 129, 156],\n",
       "        [105, 142, 168],\n",
       "        ...,\n",
       "        [  2,  38,  86],\n",
       "        [  0,  34,  80],\n",
       "        [  7,  40,  86]],\n",
       "\n",
       "       [[153, 175, 203],\n",
       "        [134, 163, 190],\n",
       "        [111, 148, 174],\n",
       "        ...,\n",
       "        [ 17,  57, 105],\n",
       "        [ 26,  65, 110],\n",
       "        [ 32,  71, 116]],\n",
       "\n",
       "       [[137, 161, 189],\n",
       "        [121, 150, 177],\n",
       "        [ 99, 139, 164],\n",
       "        ...,\n",
       "        [ 21,  65, 112],\n",
       "        [ 26,  67, 112],\n",
       "        [ 33,  74, 119]]], dtype=uint8)"
      ]
     },
     "execution_count": 3,
     "metadata": {},
     "output_type": "execute_result"
    }
   ],
   "source": [
    "img=cv2.imread(r\"C:\\Users\\Shakeera\\OneDrive\\Desktop\\women.jpeg\",\n",
    "               cv2.COLOR_BGR2GRAY)\n",
    "img"
   ]
  },
  {
   "cell_type": "code",
   "execution_count": 23,
   "id": "eadf4980",
   "metadata": {},
   "outputs": [],
   "source": [
    "cv2.imshow(\"image\",img) \n",
    "cv2.waitKey(2000)         \n",
    "cv2.destroyAllWindows() "
   ]
  },
  {
   "cell_type": "code",
   "execution_count": 24,
   "id": "7c216e66",
   "metadata": {},
   "outputs": [],
   "source": [
    "img=cv2.imread(r\"C:\\Users\\Shakeera\\OneDrive\\Desktop\\women.jpeg\",\n",
    "               cv2.COLOR_BGR2GRAY)\n",
    "\n",
    "cv2.imshow(\"image\",img)  \n",
    "cv2.waitKey(0)         \n",
    "cv2.destroyAllWindows()"
   ]
  },
  {
   "cell_type": "code",
   "execution_count": 25,
   "id": "7a46ff07",
   "metadata": {},
   "outputs": [],
   "source": [
    "img=cv2.imread(r\"C:\\Users\\Shakeera\\OneDrive\\Desktop\\women.jpeg\",\n",
    "               cv2.COLOR_BGR2GRAY)\n",
    "\n",
    "start_window=(5,5)\n",
    "end_window= (200,200)\n",
    "color=(0,255,255)\n",
    "thikness=5\n",
    "rec_image=cv2.rectangle(img,\n",
    "              start_window,\n",
    "              end_window,\n",
    "              color,\n",
    "              thikness)\n",
    "\n",
    "cv2.imshow(\"image\",rec_image)\n",
    "\n",
    "cv2.waitKey(0)         \n",
    "cv2.destroyAllWindows()\n",
    "\n"
   ]
  },
  {
   "cell_type": "code",
   "execution_count": null,
   "id": "2cf9230d",
   "metadata": {},
   "outputs": [],
   "source": [
    "img=cv2.imread(r\"C:\\Users\\Shakeera\\OneDrive\\Desktop\\women.jpeg\",cv2.COLOR_BGR2GRAY)\n",
    "face_cascade=cv2.CascadeClassifier('haarcascade_frontalface_default.xml')\n",
    "faces=face_cascade.detectMultiScale(img,1.1,4)\n",
    "print(faces)\n",
    "for (x,y,w,h) in faces:\n",
    "    print(x,y)\n",
    "    print(w,h)\n",
    "cv2.rectangle(img,(x,y),(x+w,y+h),(0,0,255),3)   # B G  R  Red Is ON"
   ]
  },
  {
   "cell_type": "code",
   "execution_count": 27,
   "id": "15db0e39",
   "metadata": {},
   "outputs": [],
   "source": [
    "cv2.imshow('image',img)\n",
    "cv2.waitKey(0)\n",
    "cv2.destroyAllWindows()"
   ]
  },
  {
   "cell_type": "markdown",
   "id": "697d3ac7",
   "metadata": {},
   "source": [
    "**Video**"
   ]
  },
  {
   "cell_type": "code",
   "execution_count": null,
   "id": "42b71185",
   "metadata": {},
   "outputs": [],
   "source": [
    "cap=cv2.VideoCapture(0)\n",
    "while cap.isOpened():\n",
    "    has_frame,frame=cap.read()\n",
    "    imag=cv2.cvtColor(frame,cv2.COLOR_BGR2GRAY)\n",
    "    faces=face_cascade.detectMultiScale(imag,1.1,4)\n",
    "    for (x,y,w,h) in faces:\n",
    "        cv2.rectangle(imag,(x,y),(x+h,y+w),(255,0,0),3)\n",
    "    cv2.imshow('image',imag)\n",
    "    if cv2.waitKey(1) & 0xFF== ord('q'):\n",
    "        break\n",
    "cap.release()\n",
    "cv2.destroyAllWindows() \n"
   ]
  },
  {
   "cell_type": "code",
   "execution_count": null,
   "id": "1d7e290e",
   "metadata": {},
   "outputs": [],
   "source": []
  }
 ],
 "metadata": {
  "kernelspec": {
   "display_name": "Python 3 (ipykernel)",
   "language": "python",
   "name": "python3"
  },
  "language_info": {
   "codemirror_mode": {
    "name": "ipython",
    "version": 3
   },
   "file_extension": ".py",
   "mimetype": "text/x-python",
   "name": "python",
   "nbconvert_exporter": "python",
   "pygments_lexer": "ipython3",
   "version": "3.11.5"
  }
 },
 "nbformat": 4,
 "nbformat_minor": 5
}
